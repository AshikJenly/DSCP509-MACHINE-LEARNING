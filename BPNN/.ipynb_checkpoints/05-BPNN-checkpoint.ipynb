{
 "cells": [
  {
   "cell_type": "code",
   "execution_count": 1,
   "id": "b23fbaef-26b0-4fa1-a2aa-fc2b05f9726a",
   "metadata": {},
   "outputs": [],
   "source": [
    "import matplotlib.pyplot as plt\n",
    "import seaborn as sns\n",
    "import pandas as pd\n",
    "import numpy as np"
   ]
  },
  {
   "cell_type": "markdown",
   "id": "bbf8df2f-63b7-4e39-a1d0-e25845489f4a",
   "metadata": {},
   "source": [
    "\n",
    "\n",
    "\\begin{align*}\n",
    "&\\text{Initialization:} \\\\\n",
    "&\\qquad \\text{For each layer } l \\in \\{1, 2, \\ldots, L\\}: \\\\\n",
    "&\\qquad \\qquad W^{[l]} \\sim \\mathcal{N}(0, \\sigma^2 I_{n^{[l]}, n^{[l-1]}}) \\\\\n",
    "&\\qquad \\qquad b^{[l]} \\sim \\mathcal{N}(0, \\sigma^2 I_{n^{[l]}}) \\\\\n",
    "&\\text{Forward Propagation:} \\\\\n",
    "&\\qquad \\text{For each layer } l \\in \\{1, 2, \\ldots, L\\}: \\\\\n",
    "&\\qquad \\qquad Z^{[l]} = W^{[l]} A^{[l-1]} + b^{[l]} \\\\\n",
    "&\\qquad \\qquad A^{[l]} = g^{[l]}(Z^{[l]}) \\\\\n",
    "&\\text{Cost Calculation:} \\\\\n",
    "&\\qquad J = -\\frac{1}{m} \\sum_{i=1}^m \\left( y^{(i)} \\log(A^{[L] (i)}) + (1 - y^{(i)}) \\log(1 - A^{[L] (i)}) \\right) \\\\\n",
    "&\\text{Backpropagation:} \\\\\n",
    "&\\qquad \\text{For each training example } i \\in \\{1, 2, \\ldots, m\\}: \\\\\n",
    "&\\qquad \\qquad \\text{Output layer:} \\\\\n",
    "&\\qquad \\qquad \\qquad dZ^{[L] (i)} = A^{[L] (i)} - y^{(i)} \\\\\n",
    "&\\qquad \\qquad \\qquad dW^{[L]} = \\frac{1}{m} dZ^{[L] (i)} A^{[L-1] (i) T} \\\\\n",
    "&\\qquad \\qquad \\qquad db^{[L]} = \\frac{1}{m} \\sum_{i=1}^m dZ^{[L] (i)} \\\\\n",
    "&\\qquad \\qquad \\qquad dA^{[L-1]} = W^{[L] T} dZ^{[L]} \\\\\n",
    "&\\qquad \\qquad \\text{Hidden layers:} \\\\\n",
    "&\\qquad \\qquad \\qquad dZ^{[l] (i)} = dA^{[l] (i)} \\cdot g^{[l]'}(Z^{[l] (i)}) \\\\\n",
    "&\\qquad \\qquad \\qquad dW^{[l]} = \\frac{1}{m} dZ^{[l] (i)} A^{[l-1] (i) T} \\\\\n",
    "&\\qquad \\qquad \\qquad db^{[l]} = \\frac{1}{m} \\sum_{i=1}^m dZ^{[l] (i)} \\\\\n",
    "&\\qquad \\qquad \\qquad dA^{[l-1]} = W^{[l] T} dZ^{[l]} \\\\\n",
    "&\\text{Parameter Update:} \\\\\n",
    "&\\qquad \\text{For each layer } l \\in \\{1, 2, \\ldots, L\\}: \\\\\n",
    "&\\qquad \\qquad W^{[l]} = W^{[l]} - \\alpha dW^{[l]} \\\\\n",
    "&\\qquad \\qquad b^{[l]} = b^{[l]} - \\alpha db^{[l]}\n",
    "\\end{align*}\n",
    "\n",
    "\n"
   ]
  },
  {
   "cell_type": "code",
   "execution_count": 2,
   "id": "636c17b5-049c-4c3c-8718-8cea683ba448",
   "metadata": {},
   "outputs": [],
   "source": [
    "X_train_org, y_train, X_test_org, y_test = np.load('datas/Files/cat_train_x.npy'),np.load('datas/Files/cat_train_y.npy'),np.load('datas/Files/cat_test_x.npy'),np.load('datas/Files/cat_test_y.npy')\n",
    "train_x_flatten = X_train_org.reshape(X_train_org.shape[0], -1).T   # The \"-1\" makes reshape flatten the remaining dimensions\n",
    "test_x_flatten = X_test_org.reshape(X_test_org.shape[0], -1).T\n",
    "\n",
    "X_train = train_x_flatten/255.\n",
    "X_test = test_x_flatten/255."
   ]
  },
  {
   "cell_type": "code",
   "execution_count": 14,
   "id": "8126245d",
   "metadata": {},
   "outputs": [
    {
     "data": {
      "text/plain": [
       "(12288, 209)"
      ]
     },
     "execution_count": 14,
     "metadata": {},
     "output_type": "execute_result"
    }
   ],
   "source": [
    "X_train.shape"
   ]
  },
  {
   "cell_type": "code",
   "execution_count": 4,
   "id": "8a867bcf",
   "metadata": {},
   "outputs": [
    {
     "data": {
      "text/plain": [
       "array([[[[158, 104,  83],\n",
       "         [161, 106,  85],\n",
       "         [162, 107,  84],\n",
       "         ...,\n",
       "         [170, 120, 100],\n",
       "         [167, 121, 103],\n",
       "         [172, 127, 109]],\n",
       "\n",
       "        [[158, 103,  82],\n",
       "         [160, 104,  82],\n",
       "         [162, 105,  83],\n",
       "         ...,\n",
       "         [169, 118,  99],\n",
       "         [164, 117,  98],\n",
       "         [168, 121, 104]],\n",
       "\n",
       "        [[158, 104,  82],\n",
       "         [161, 105,  82],\n",
       "         [162, 105,  83],\n",
       "         ...,\n",
       "         [173, 123, 102],\n",
       "         [169, 122, 104],\n",
       "         [168, 122, 104]],\n",
       "\n",
       "        ...,\n",
       "\n",
       "        [[102,  68,  52],\n",
       "         [ 44,  31,  23],\n",
       "         [ 28,  23,  20],\n",
       "         ...,\n",
       "         [163, 118, 102],\n",
       "         [163, 120, 103],\n",
       "         [166, 121, 105]],\n",
       "\n",
       "        [[ 99,  67,  51],\n",
       "         [ 38,  28,  22],\n",
       "         [ 30,  26,  23],\n",
       "         ...,\n",
       "         [161, 117, 100],\n",
       "         [164, 121, 104],\n",
       "         [168, 123, 106]],\n",
       "\n",
       "        [[127,  95,  72],\n",
       "         [ 39,  29,  22],\n",
       "         [ 30,  25,  22],\n",
       "         ...,\n",
       "         [165, 122, 105],\n",
       "         [169, 126, 109],\n",
       "         [173, 128, 110]]],\n",
       "\n",
       "\n",
       "       [[[115, 110, 111],\n",
       "         [137, 129, 129],\n",
       "         [155, 146, 145],\n",
       "         ...,\n",
       "         [159, 156, 157],\n",
       "         [141, 141, 145],\n",
       "         [121, 122, 127]],\n",
       "\n",
       "        [[123, 118, 120],\n",
       "         [143, 136, 136],\n",
       "         [159, 153, 150],\n",
       "         ...,\n",
       "         [167, 164, 165],\n",
       "         [151, 151, 154],\n",
       "         [130, 133, 137]],\n",
       "\n",
       "        [[135, 130, 130],\n",
       "         [150, 145, 141],\n",
       "         [164, 159, 153],\n",
       "         ...,\n",
       "         [173, 174, 172],\n",
       "         [160, 162, 162],\n",
       "         [141, 144, 148]],\n",
       "\n",
       "        ...,\n",
       "\n",
       "        [[197, 196, 205],\n",
       "         [208, 209, 214],\n",
       "         [215, 216, 220],\n",
       "         ...,\n",
       "         [222, 224, 229],\n",
       "         [205, 208, 215],\n",
       "         [185, 189, 197]],\n",
       "\n",
       "        [[190, 192, 199],\n",
       "         [203, 205, 210],\n",
       "         [213, 214, 218],\n",
       "         ...,\n",
       "         [217, 220, 225],\n",
       "         [198, 202, 209],\n",
       "         [178, 182, 191]],\n",
       "\n",
       "        [[183, 186, 193],\n",
       "         [197, 199, 205],\n",
       "         [208, 210, 214],\n",
       "         ...,\n",
       "         [212, 215, 220],\n",
       "         [192, 196, 203],\n",
       "         [171, 176, 186]]],\n",
       "\n",
       "\n",
       "       [[[255, 253, 254],\n",
       "         [255, 253, 254],\n",
       "         [255, 253, 254],\n",
       "         ...,\n",
       "         [197, 178, 118],\n",
       "         [195, 177, 116],\n",
       "         [192, 176, 115]],\n",
       "\n",
       "        [[255, 253, 254],\n",
       "         [255, 253, 254],\n",
       "         [255, 253, 254],\n",
       "         ...,\n",
       "         [197, 178, 120],\n",
       "         [195, 176, 118],\n",
       "         [193, 174, 118]],\n",
       "\n",
       "        [[255, 253, 254],\n",
       "         [255, 253, 254],\n",
       "         [255, 253, 254],\n",
       "         ...,\n",
       "         [197, 177, 121],\n",
       "         [194, 174, 121],\n",
       "         [190, 171, 122]],\n",
       "\n",
       "        ...,\n",
       "\n",
       "        [[ 94,  95,  97],\n",
       "         [102, 104, 108],\n",
       "         [115, 113, 115],\n",
       "         ...,\n",
       "         [ 68,  67,  91],\n",
       "         [ 71,  55,  80],\n",
       "         [ 64,  51,  82]],\n",
       "\n",
       "        [[ 68,  71,  69],\n",
       "         [ 75,  79,  80],\n",
       "         [ 82,  91,  91],\n",
       "         ...,\n",
       "         [122, 103, 109],\n",
       "         [114,  84,  99],\n",
       "         [ 97,  72, 100]],\n",
       "\n",
       "        [[ 67,  86,  89],\n",
       "         [ 62,  83,  90],\n",
       "         [ 47,  73,  82],\n",
       "         ...,\n",
       "         [147, 120, 125],\n",
       "         [142, 110, 118],\n",
       "         [133, 101, 121]]],\n",
       "\n",
       "\n",
       "       ...,\n",
       "\n",
       "\n",
       "       [[[ 41,  47,  84],\n",
       "         [ 72,  78, 112],\n",
       "         [103, 102, 124],\n",
       "         ...,\n",
       "         [125, 112, 119],\n",
       "         [107, 101, 117],\n",
       "         [ 76,  79, 109]],\n",
       "\n",
       "        [[ 93,  96, 119],\n",
       "         [112, 109, 124],\n",
       "         [130, 122, 136],\n",
       "         ...,\n",
       "         [141, 121, 118],\n",
       "         [130, 112, 114],\n",
       "         [122, 109, 117]],\n",
       "\n",
       "        [[119, 114, 123],\n",
       "         [133, 124, 128],\n",
       "         [164, 149, 145],\n",
       "         ...,\n",
       "         [187, 160, 135],\n",
       "         [157, 132, 120],\n",
       "         [136, 115, 109]],\n",
       "\n",
       "        ...,\n",
       "\n",
       "        [[233, 223, 207],\n",
       "         [235, 226, 218],\n",
       "         [242, 236, 235],\n",
       "         ...,\n",
       "         [164, 170, 196],\n",
       "         [189, 185, 196],\n",
       "         [190, 182, 188]],\n",
       "\n",
       "        [[247, 250, 248],\n",
       "         [236, 238, 232],\n",
       "         [219, 215, 219],\n",
       "         ...,\n",
       "         [118, 101, 117],\n",
       "         [153, 134, 154],\n",
       "         [174, 146, 156]],\n",
       "\n",
       "        [[253, 254, 254],\n",
       "         [246, 250, 249],\n",
       "         [226, 233, 234],\n",
       "         ...,\n",
       "         [154, 111,  93],\n",
       "         [176, 132, 104],\n",
       "         [183, 141, 116]]],\n",
       "\n",
       "\n",
       "       [[[ 18,  18,  16],\n",
       "         [ 35,  36,  31],\n",
       "         [ 54,  57,  52],\n",
       "         ...,\n",
       "         [138, 140, 118],\n",
       "         [139, 141, 124],\n",
       "         [130, 129, 114]],\n",
       "\n",
       "        [[ 21,  21,  18],\n",
       "         [ 44,  45,  39],\n",
       "         [ 68,  74,  66],\n",
       "         ...,\n",
       "         [128, 131, 109],\n",
       "         [116, 117,  98],\n",
       "         [ 95,  93,  76]],\n",
       "\n",
       "        [[ 30,  31,  26],\n",
       "         [ 54,  58,  52],\n",
       "         [ 99, 110, 104],\n",
       "         ...,\n",
       "         [127, 129, 108],\n",
       "         [113, 114,  94],\n",
       "         [ 99,  99,  82]],\n",
       "\n",
       "        ...,\n",
       "\n",
       "        [[178, 178, 163],\n",
       "         [161, 163, 146],\n",
       "         [170, 174, 163],\n",
       "         ...,\n",
       "         [112, 108,  85],\n",
       "         [149, 150, 131],\n",
       "         [180, 185, 172]],\n",
       "\n",
       "        [[182, 183, 167],\n",
       "         [172, 175, 162],\n",
       "         [170, 173, 162],\n",
       "         ...,\n",
       "         [ 88,  90,  77],\n",
       "         [122, 115,  89],\n",
       "         [157, 154, 131]],\n",
       "\n",
       "        [[188, 190, 179],\n",
       "         [173, 175, 163],\n",
       "         [160, 162, 146],\n",
       "         ...,\n",
       "         [ 48,  50,  44],\n",
       "         [103, 103,  89],\n",
       "         [144, 137, 108]]],\n",
       "\n",
       "\n",
       "       [[[133, 163,  75],\n",
       "         [ 98, 120,  44],\n",
       "         [108, 132,  47],\n",
       "         ...,\n",
       "         [ 96, 138,  97],\n",
       "         [ 96, 146, 109],\n",
       "         [ 81, 132, 101]],\n",
       "\n",
       "        [[ 79, 102,  39],\n",
       "         [ 83, 112,  33],\n",
       "         [ 76, 106,  26],\n",
       "         ...,\n",
       "         [ 99, 149,  76],\n",
       "         [ 71, 119,  62],\n",
       "         [ 58, 106,  72]],\n",
       "\n",
       "        [[ 35,  53,  27],\n",
       "         [ 54,  74,  46],\n",
       "         [ 35,  55,  17],\n",
       "         ...,\n",
       "         [110, 157, 122],\n",
       "         [ 72, 119,  89],\n",
       "         [ 81, 131, 108]],\n",
       "\n",
       "        ...,\n",
       "\n",
       "        [[ 76, 108,  79],\n",
       "         [ 70, 110,  83],\n",
       "         [ 70, 105,  84],\n",
       "         ...,\n",
       "         [ 25,  49,  21],\n",
       "         [ 26,  53,  24],\n",
       "         [ 27,  54,  28]],\n",
       "\n",
       "        [[109, 120,  97],\n",
       "         [ 86, 116,  86],\n",
       "         [ 71, 105,  79],\n",
       "         ...,\n",
       "         [ 17,  46,  20],\n",
       "         [ 23,  49,  28],\n",
       "         [ 19,  33,  18]],\n",
       "\n",
       "        [[ 97, 117, 100],\n",
       "         [ 70, 108,  75],\n",
       "         [ 75,  99,  69],\n",
       "         ...,\n",
       "         [  8,  33,  12],\n",
       "         [ 13,  35,  18],\n",
       "         [  5,  22,   5]]]], dtype=uint8)"
      ]
     },
     "execution_count": 4,
     "metadata": {},
     "output_type": "execute_result"
    }
   ],
   "source": [
    "X_test_org"
   ]
  },
  {
   "cell_type": "code",
   "execution_count": 5,
   "id": "338bbad8-2e58-4692-beed-1b851755b9f3",
   "metadata": {},
   "outputs": [
    {
     "name": "stdout",
     "output_type": "stream",
     "text": [
      "0\n"
     ]
    },
    {
     "data": {
      "image/png": "[encoded data removed]",
      "text/plain": [
       "<Figure size 200x200 with 1 Axes>"
      ]
     },
     "metadata": {},
     "output_type": "display_data"
    }
   ],
   "source": [
    "plt.figure(figsize=(2,2))\n",
    "plt.imshow(X_train_org[1])\n",
    "print(y_train[0][1])\n",
    "plt.show()"
   ]
  },
  {
   "cell_type": "code",
   "execution_count": 15,
   "id": "951cd8c0",
   "metadata": {},
   "outputs": [
    {
     "data": {
      "text/plain": [
       "(1, 209)"
      ]
     },
     "execution_count": 15,
     "metadata": {},
     "output_type": "execute_result"
    }
   ],
   "source": [
    "y_train.shape"
   ]
  },
  {
   "cell_type": "code",
   "execution_count": null,
   "id": "6903242b",
   "metadata": {},
   "outputs": [],
   "source": []
  },
  {
   "cell_type": "code",
   "execution_count": null,
   "id": "b3704a54",
   "metadata": {},
   "outputs": [],
   "source": []
  },
  {
   "cell_type": "code",
   "execution_count": null,
   "id": "c0c1af35",
   "metadata": {},
   "outputs": [],
   "source": [
    "# ... (other parts of the code)\n",
    "\n",
    "class BPNN:\n",
    "    # ... (previous methods and initialization)\n",
    "\n",
    "    def __cost(self, A_last_layer, y, lambd):\n",
    "        m = y.shape[1]\n",
    "        cross_entropy_cost = (-1 / m) * np.sum(np.multiply(y, np.log(A_last_layer)) + np.multiply(1 - y, np.log(1 - A_last_layer)))\n",
    "        \n",
    "        # Regularization term\n",
    "        L2_regularization_cost = 0\n",
    "        for l in range(1, self.number_of_layers + 1):\n",
    "            L2_regularization_cost += np.sum(np.square(self.parameters[\"W\" + str(l)]))\n",
    "        \n",
    "        cost = cross_entropy_cost + (lambd / (2 * m)) * L2_regularization_cost\n",
    "        self.cost = np.squeeze(cost)\n",
    "\n",
    "    def __backward_propagation(self, A_last_layer, y, caches, lambd):\n",
    "        grads = {}\n",
    "        L = self.number_of_layers\n",
    "        y = y.reshape(A_last_layer.shape)\n",
    "\n",
    "        dA_last_layer = - (np.divide(y, A_last_layer) - np.divide(1 - y, 1 - A_last_layer))\n",
    "        dA_prev, dW, db = self.linear_activation_backward(dA_last_layer, caches[L - 1], \"sigmoid\")\n",
    "        \n",
    "        # Add L2 regularization term to gradient\n",
    "        dW += (lambd / A_last_layer.shape[1]) * self.parameters[\"W\" + str(L)]\n",
    "\n",
    "        grads[\"dA\" + str(L)], grads[\"dW\" + str(L)], grads[\"db\" + str(L)] = dA_prev, dW, db\n",
    "\n",
    "        for l in reversed(range(L - 1)):\n",
    "            dA = dA_prev\n",
    "            dA_prev, dW, db = self.linear_activation_backward(dA, caches[l], \"relu\")\n",
    "            \n",
    "            # Add L2 regularization term to gradient\n",
    "            dW += (lambd / A_last_layer.shape[1]) * self.parameters[\"W\" + str(l + 1)]\n",
    "\n",
    "            grads[\"dA\" + str(l)] = dA_prev\n",
    "            grads[\"dW\" + str(l + 1)] = dW\n",
    "            grads[\"db\" + str(l + 1)] = db\n",
    "\n",
    "        grads[\"dA1\"] = grads['dA2']\n",
    "        del grads['dA2']\n",
    "\n",
    "        return grads\n",
    "\n",
    "    def fit(self, X, y, learning_rate=0.001, num_iter=1000, print_cost=False, lambd=0.0):\n",
    "        # ... (other parts of the code)\n",
    "        \n",
    "        for i in range(num_iter):\n",
    "            # ... (other parts of the code)\n",
    "\n",
    "            #backward propagation\n",
    "            grads = self.__backward_propagation(A_last_layer=last_layer_output,\n",
    "                                                y=y,\n",
    "                                                caches=caches,\n",
    "                                                lambd=lambd)\n",
    "\n",
    "            # ... (other parts of the code)\n"
   ]
  },
  {
   "cell_type": "code",
   "execution_count": 8,
   "id": "4d416bb2-9c21-4219-885f-d0ec9efc279d",
   "metadata": {},
   "outputs": [],
   "source": [
    "class BPNN:\n",
    "    def __init__(self,layer_dims):\n",
    "        self.layer_dims = layer_dims\n",
    "        self.parameters = {}\n",
    "        self.cost = 0\n",
    "        self.number_of_layers = len(self.layer_dims) - 1\n",
    "\n",
    "\n",
    "    def __initialize_paramters(self):\n",
    "        np.random.seed(1)\n",
    "        for l in range(1,self.number_of_layers + 1):\n",
    "            self.parameters[\"W\"+str(l)] = np.random.randn(self.layer_dims[l],self.layer_dims[l-1]) * 0.01\n",
    "            self.parameters[\"b\"+str(l)] = np.zeros(shape=(self.layer_dims[l],1))\n",
    "            \n",
    "    def __forward_propogation(self,X):\n",
    "\n",
    "        def relu(x):\n",
    "            return np.maximum(0,x)\n",
    "        def sigmoid(x):\n",
    "              return 1 / (1 + np.exp(-x))\n",
    "\n",
    "        \n",
    "        def linear_activation_forward(A_prev,W,b,activation):\n",
    "\n",
    "            if activation == \"sigmoid\":\n",
    "                Z = np.dot(W,A_prev) + b\n",
    "                A = sigmoid(Z)\n",
    "            elif activation == \"relu\":\n",
    "                Z = np.dot(W,A_prev) + b\n",
    "                A = relu(Z)\n",
    "            activation_cache = Z\n",
    "            return A,activation_cache\n",
    "                \n",
    "        \n",
    "        A = X\n",
    "        caches = []\n",
    "        L = self.number_of_layers\n",
    "        \n",
    "        for l in range(1,self.number_of_layers):\n",
    "            \n",
    "            A_prev = A\n",
    "            W,b = self.parameters[\"W\" + str(l)],self.parameters[\"b\"+str(l)]\n",
    "            linear_cache = (A_prev,W,b)\n",
    "            A,activation_cache = linear_activation_forward(A_prev=A_prev,\n",
    "                                          W=W,\n",
    "                                          b=b,\n",
    "                                          activation=\"relu\")\n",
    "            cache = (linear_cache,activation_cache)\n",
    "            caches.append(cache)\n",
    "        \n",
    "        W,b=self.parameters[\"W\"+ str(L)],self.parameters[\"b\" + str(L)]\n",
    "        linear_cache = (A,W,b)\n",
    "        A_last_layer,activation_cache = linear_activation_forward(A_prev=A,\n",
    "                                                 W=W,\n",
    "                                                 b=b,\n",
    "                                                 activation=\"sigmoid\")\n",
    "        \n",
    "        cache = (linear_cache,activation_cache)\n",
    "        caches.append(cache)\n",
    "\n",
    "        return A_last_layer,caches\n",
    "            \n",
    "   \n",
    "    \n",
    "    def __backward_propogation(self,A_last_layer,y,caches):\n",
    "\n",
    "        def linear_activation_backward(dA,cache,activation):\n",
    "             linear_cache,activation_cache = cache\n",
    "\n",
    "             if activation == \"sigmoid\":\n",
    "                 s = 1 / (1 + np.exp(-activation_cache))\n",
    "                 dZ = dA * s * (1-s)\n",
    "             elif activation == \"relu\":\n",
    "                 dZ = np.multiply(dA,np.int64(activation_cache > 0))\n",
    "\n",
    "\n",
    "              # \"\"\"linear backward\"\"\"\n",
    "             A_prev, W, b = linear_cache\n",
    "             m = A_prev.shape[1]\n",
    "\n",
    "             dW = np.dot(dZ,A_prev.T) / m \n",
    "             db = np.sum(dZ, axis=1, keepdims=True) / m\n",
    "             dA_prev = np.dot(W.T, dZ)\n",
    "\n",
    "             return dA_prev, dW, db\n",
    "              \n",
    "        \n",
    "        grads = {}\n",
    "        L = self.number_of_layers\n",
    "        y = y.reshape(A_last_layer.shape)\n",
    "\n",
    "        dA_last_layer = - (np.divide(y, A_last_layer) - np.divide(1 - y, 1 - A_last_layer));\n",
    "        dA_prev, dW, db = linear_activation_backward(dA_last_layer,caches[L - 1],\"sigmoid\")        \n",
    "        grads[\"dA\" + str(L)], grads[\"dW\" + str(L)], grads[\"db\" + str(L)] = dA_prev, dW, db;\n",
    "        \n",
    "        for l in reversed(range(L-1)):\n",
    "            dA = dA_prev\n",
    "            dA_prev, dW, db = linear_activation_backward(dA,caches[l],\"relu\")\n",
    "            grads[\"dA\" + str(l)] = dA_prev\n",
    "            grads[\"dW\" + str(l + 1)] = dW\n",
    "            grads[\"db\" + str(l + 1)] = db\n",
    "            \n",
    "        grads[\"dA1\"]=grads['dA2']\n",
    "        del(grads['dA2'])\n",
    "        \n",
    "        return grads\n",
    "    \n",
    "    def __update_parameters(self,learning_rate,grads):\n",
    "       \n",
    "        for l in range(1,self.number_of_layers):\n",
    "            self.parameters[\"W\" + str(l + 1)] = self.parameters[\"W\" + str(l + 1)] - learning_rate * grads[\"dW\" + str(l + 1)]\n",
    "            self.parameters[\"b\" + str(l + 1)] = self.parameters[\"b\" + str(l + 1)] - learning_rate * grads[\"db\" + str(l + 1)]\n",
    "    \n",
    "    def __cost(self,A_last_layer,y):\n",
    "        m = y.shape[1]\n",
    "        cost = (-1 / m) * np.sum(np.multiply(y, np.log(A_last_layer)) + np.multiply(1 - y, np.log(1 - A_last_layer)))\n",
    "\n",
    "        self.cost = np.squeeze(cost)        \n",
    "\n",
    "    def fit(self,X,y,learning_rate=0.001,num_iter=1000,print_cost=False):\n",
    "\n",
    "        np.random.seed(1)\n",
    "        self.__initialize_paramters()\n",
    "\n",
    "        for i in range(0,num_iter):\n",
    "\n",
    "            # forward propa=ogation\n",
    "            last_layer_output,caches = self.__forward_propogation(X)\n",
    "            \n",
    "            #calculate cost value\n",
    "            self.__cost(last_layer_output,y)\n",
    "\n",
    "            #backward propagation\n",
    "            grads = self.__backward_propogation(A_last_layer=last_layer_output,\n",
    "                                                y=y,\n",
    "                                                caches=caches) \n",
    "\n",
    "            #update paramters\n",
    "            self.__update_parameters(learning_rate=learning_rate,\n",
    "                                     grads=grads)\n",
    "\n",
    "            if print_cost and i%100 == 0:\n",
    "                print(\"Cost after iteration {}: {}\".format(i, np.squeeze(self.cost)))\n",
    "\n",
    "                \n",
    "    def predict(self,image):\n",
    "        A_last_layer, _ = self.__forward_propogation(image)\n",
    "        print(A_last_layer)\n",
    "        predictions = (A_last_layer > 0.5).astype(int)  # Assuming binary classification\n",
    "        \n",
    "        return predictions"
   ]
  },
  {
   "cell_type": "code",
   "execution_count": 33,
   "id": "199e2718",
   "metadata": {},
   "outputs": [],
   "source": [
    "import numpy as np\n",
    "\n",
    "class BPNN:\n",
    "    def __init__(self, layer_dims):\n",
    "        self.layer_dims = layer_dims\n",
    "        self.parameters = {}\n",
    "        self.cost = 0\n",
    "        self.number_of_layers = len(self.layer_dims) - 1\n",
    "\n",
    "    def __initialize_parameters(self):\n",
    "        np.random.seed(1)\n",
    "        for l in range(1, self.number_of_layers + 1):\n",
    "            self.parameters[\"W\" + str(l)] = np.random.randn(self.layer_dims[l], self.layer_dims[l - 1]) * 0.01\n",
    "            self.parameters[\"b\" + str(l)] = np.zeros(shape=(self.layer_dims[l], 1))\n",
    "\n",
    "    def relu(self, x):\n",
    "        return np.maximum(0, x)\n",
    "\n",
    "    def sigmoid(self, x):\n",
    "        return 1 / (1 + np.exp(-x))\n",
    "\n",
    "    def linear_activation_forward(self, A_prev, W, b, activation):\n",
    "        if activation == \"sigmoid\":\n",
    "            Z = np.dot(W, A_prev) + b\n",
    "            A = self.sigmoid(Z)\n",
    "        elif activation == \"relu\":\n",
    "            Z = np.dot(W, A_prev) + b\n",
    "            A = self.relu(Z)\n",
    "        activation_cache = Z\n",
    "        return A, activation_cache\n",
    "\n",
    "    def __forward_propagation(self, X):\n",
    "        A = X\n",
    "        caches = []\n",
    "        L = self.number_of_layers\n",
    "\n",
    "        for l in range(1, L):\n",
    "            A_prev = A\n",
    "            W, b = self.parameters[\"W\" + str(l)], self.parameters[\"b\" + str(l)]\n",
    "            linear_cache = (A_prev, W, b)\n",
    "            A, activation_cache = self.linear_activation_forward(A_prev, W, b, activation=\"relu\")\n",
    "            cache = (linear_cache, activation_cache)\n",
    "            caches.append(cache)\n",
    "\n",
    "        W, b = self.parameters[\"W\" + str(L)], self.parameters[\"b\" + str(L)]\n",
    "        linear_cache = (A, W, b)\n",
    "        A_last_layer, activation_cache = self.linear_activation_forward(A, W, b, activation=\"sigmoid\")\n",
    "\n",
    "        cache = (linear_cache, activation_cache)\n",
    "        caches.append(cache)\n",
    "\n",
    "        return A_last_layer, caches\n",
    "\n",
    "    def linear_activation_backward(self, dA, cache, activation):\n",
    "        linear_cache, activation_cache = cache\n",
    "\n",
    "        if activation == \"sigmoid\":\n",
    "            s = self.sigmoid(activation_cache)\n",
    "            dZ = dA * s * (1 - s)\n",
    "        elif activation == \"relu\":\n",
    "            dZ = np.multiply(dA, np.int64(activation_cache > 0))\n",
    "\n",
    "        A_prev, W, b = linear_cache\n",
    "        m = A_prev.shape[1]\n",
    "\n",
    "        dW = np.dot(dZ, A_prev.T) / m\n",
    "        db = np.sum(dZ, axis=1, keepdims=True) / m\n",
    "        dA_prev = np.dot(W.T, dZ)\n",
    "\n",
    "        return dA_prev, dW, db\n",
    "\n",
    "    def __backward_propagation(self, A_last_layer, y, caches, lambd):\n",
    "        grads = {}\n",
    "        L = self.number_of_layers\n",
    "        y = y.reshape(A_last_layer.shape)\n",
    "\n",
    "        dA_last_layer = - (np.divide(y, A_last_layer) - np.divide(1 - y, 1 - A_last_layer))\n",
    "        dA_prev, dW, db = self.linear_activation_backward(dA_last_layer, caches[L - 1], \"sigmoid\")\n",
    "        \n",
    "        # Add L2 regularization term to gradient\n",
    "        dW += (lambd / A_last_layer.shape[1]) * self.parameters[\"W\" + str(L)]\n",
    "\n",
    "        grads[\"dA\" + str(L)], grads[\"dW\" + str(L)], grads[\"db\" + str(L)] = dA_prev, dW, db\n",
    "\n",
    "        for l in reversed(range(L - 1)):\n",
    "            dA = dA_prev\n",
    "            dA_prev, dW, db = self.linear_activation_backward(dA, caches[l], \"relu\")\n",
    "            \n",
    "            # Add L2 regularization term to gradient\n",
    "            dW += (lambd / A_last_layer.shape[1]) * self.parameters[\"W\" + str(l + 1)]\n",
    "\n",
    "            grads[\"dA\" + str(l)] = dA_prev\n",
    "            grads[\"dW\" + str(l + 1)] = dW\n",
    "            grads[\"db\" + str(l + 1)] = db\n",
    "\n",
    "        grads[\"dA1\"] = grads['dA2']\n",
    "        del grads['dA2']\n",
    "\n",
    "        return grads\n",
    "\n",
    "    def __update_parameters(self, learning_rate, grads):\n",
    "        for l in range(1, self.number_of_layers):\n",
    "            self.parameters[\"W\" + str(l + 1)] -= learning_rate * grads[\"dW\" + str(l + 1)]\n",
    "            self.parameters[\"b\" + str(l + 1)] -= learning_rate * grads[\"db\" + str(l + 1)]\n",
    "\n",
    "    def __cost(self, A_last_layer, y, lambd):\n",
    "        m = y.shape[1]\n",
    "        cross_entropy_cost = (-1 / m) * np.sum(np.multiply(y, np.log(A_last_layer)) + np.multiply(1 - y, np.log(1 - A_last_layer)))\n",
    "        \n",
    "        # Regularization term\n",
    "        L2_regularization_cost = 0\n",
    "        for l in range(1, self.number_of_layers + 1):\n",
    "            L2_regularization_cost += np.sum(np.square(self.parameters[\"W\" + str(l)]))\n",
    "        \n",
    "        cost = cross_entropy_cost + (lambd / (2 * m)) * L2_regularization_cost\n",
    "        self.cost = np.squeeze(cost)\n",
    "\n",
    "    def fit(self, X, y, learning_rate=0.001, num_iter=1000, print_cost=False, lambd=0.0):\n",
    "        np.random.seed(1)\n",
    "        self.__initialize_parameters()\n",
    "\n",
    "        for i in range(num_iter):\n",
    "            last_layer_output, caches = self.__forward_propagation(X)\n",
    "            self.__cost(last_layer_output, y, lambd)\n",
    "            grads = self.__backward_propagation(A_last_layer=last_layer_output,\n",
    "                                                y=y,\n",
    "                                                caches=caches,\n",
    "                                                lambd=lambd)\n",
    "            self.__update_parameters(learning_rate=learning_rate, grads=grads)\n",
    "\n",
    "            if print_cost and i % 100 == 0:\n",
    "                print(\"Cost after iteration {}: {}\".format(i, np.squeeze(self.cost)))\n",
    "                # print(grads['dA4'])\n",
    "                # print(grads['dW4'])\n",
    "                # print(grads['db4'])\n",
    "\n",
    "    def predict(self, image):\n",
    "        A_last_layer, _ = self.__forward_propagation(image)\n",
    "        predictions = A_last_layer\n",
    "        return predictions\n"
   ]
  },
  {
   "cell_type": "markdown",
   "id": "18adb12e-cdfc-4881-93d2-eb3c0e6b8e26",
   "metadata": {},
   "source": [
    "## Model "
   ]
  },
  {
   "cell_type": "code",
   "execution_count": 34,
   "id": "48f7a292-4f39-49bd-bd07-8c2a05d59d02",
   "metadata": {},
   "outputs": [],
   "source": [
    "layers_dims = [12288, 7, 1] #  4-layer model"
   ]
  },
  {
   "cell_type": "code",
   "execution_count": 35,
   "id": "31603b05-1cae-43b1-9ea2-38681bf2b089",
   "metadata": {},
   "outputs": [
    {
     "name": "stdout",
     "output_type": "stream",
     "text": [
      "Cost after iteration 0: 0.6930908407855548\n",
      "Cost after iteration 100: 0.6190190401271768\n",
      "Cost after iteration 200: 0.6186698296832995\n",
      "Cost after iteration 300: 0.6186295041733283\n",
      "Cost after iteration 400: 0.6186237885973308\n",
      "Cost after iteration 500: 0.6186221739683322\n",
      "Cost after iteration 600: 0.6186210619437688\n",
      "Cost after iteration 700: 0.6186200216169295\n",
      "Cost after iteration 800: 0.6186190004169355\n",
      "Cost after iteration 900: 0.6186179914392225\n",
      "Cost after iteration 1000: 0.6186169934596327\n",
      "Cost after iteration 1100: 0.6186160060568786\n",
      "Cost after iteration 1200: 0.6186150289793662\n",
      "Cost after iteration 1300: 0.6186140620404825\n",
      "Cost after iteration 1400: 0.6186131050887027\n",
      "Cost after iteration 1500: 0.6186121579935361\n",
      "Cost after iteration 1600: 0.6186112206375152\n",
      "Cost after iteration 1700: 0.6186102929114112\n",
      "Cost after iteration 1800: 0.6186093747113481\n",
      "Cost after iteration 1900: 0.618608465937057\n",
      "Cost after iteration 2000: 0.6186075664908178\n",
      "Cost after iteration 2100: 0.6186066762768176\n",
      "Cost after iteration 2200: 0.6186057952007596\n",
      "Cost after iteration 2300: 0.6186049231696227\n",
      "Cost after iteration 2400: 0.6186040600915136\n"
     ]
    }
   ],
   "source": [
    "model = BPNN(layer_dims=layers_dims)\n",
    "model.fit(\n",
    "    X=X_train,\n",
    "    y=y_train,\n",
    "    learning_rate=3,\n",
    "    num_iter=2500,\n",
    "    print_cost=True,\n",
    "    lambd = 0.002)"
   ]
  },
  {
   "cell_type": "code",
   "execution_count": 36,
   "id": "da88945f-5b3f-437a-b883-c2967b72da4b",
   "metadata": {},
   "outputs": [],
   "source": [
    "pred = model.predict(X_test)"
   ]
  },
  {
   "cell_type": "code",
   "execution_count": 37,
   "id": "2a0ba8f5",
   "metadata": {},
   "outputs": [
    {
     "data": {
      "text/plain": [
       "array([[0.34549512, 0.51159814, 0.45189496, 0.39784455, 0.51843456,\n",
       "        0.36603351, 0.18065083, 0.6151295 , 0.50442613, 0.30492511,\n",
       "        0.55012645, 0.22514673, 0.43565865, 0.33462703, 0.48724939,\n",
       "        0.52755391, 0.29035277, 0.36902141, 0.33299871, 0.28159917,\n",
       "        0.41643071, 0.20020221, 0.28084243, 0.26188774, 0.56529395,\n",
       "        0.52290901, 0.43847103, 0.25225106, 0.23805756, 0.17015104,\n",
       "        0.48023289, 0.52391758, 0.58457683, 0.20668927, 0.26384206,\n",
       "        0.34640943, 0.36648881, 0.32267638, 0.27221966, 0.49110824,\n",
       "        0.22781765, 0.46681108, 0.38064216, 0.31992371, 0.50605147,\n",
       "        0.46212035, 0.4458086 , 0.29952031, 0.22765706, 0.46382064]])"
      ]
     },
     "execution_count": 37,
     "metadata": {},
     "output_type": "execute_result"
    }
   ],
   "source": [
    "pred\n"
   ]
  },
  {
   "cell_type": "code",
   "execution_count": 38,
   "id": "4506eb48-8876-4068-a4af-3144a5d84509",
   "metadata": {},
   "outputs": [
    {
     "data": {
      "text/plain": [
       "(12288,)"
      ]
     },
     "execution_count": 38,
     "metadata": {},
     "output_type": "execute_result"
    }
   ],
   "source": [
    "X_train[:,4].shape"
   ]
  },
  {
   "cell_type": "code",
   "execution_count": 39,
   "id": "1cfdf935-3951-4d15-9cda-4d627b56e7a7",
   "metadata": {},
   "outputs": [
    {
     "data": {
      "text/plain": [
       "<matplotlib.image.AxesImage at 0x1c4028c5870>"
      ]
     },
     "execution_count": 39,
     "metadata": {},
     "output_type": "execute_result"
    },
    {
     "data": {
      "image/png": "[encoded data removed]",
      "text/plain": [
       "<Figure size 640x480 with 1 Axes>"
      ]
     },
     "metadata": {},
     "output_type": "display_data"
    }
   ],
   "source": [
    "plt.imshow(X_train_org[24])"
   ]
  },
  {
   "cell_type": "code",
   "execution_count": 40,
   "id": "d647f3f7-c5d3-4a3f-9329-5ee8da7ed1f3",
   "metadata": {},
   "outputs": [
    {
     "data": {
      "text/plain": [
       "24"
      ]
     },
     "execution_count": 40,
     "metadata": {},
     "output_type": "execute_result"
    }
   ],
   "source": [
    "y_train[:,20:].argmax() + 20"
   ]
  },
  {
   "cell_type": "code",
   "execution_count": 41,
   "id": "c917b9d5-d6cd-477a-a0c2-8757e2f30eba",
   "metadata": {},
   "outputs": [
    {
     "data": {
      "text/plain": [
       "(1, 189)"
      ]
     },
     "execution_count": 41,
     "metadata": {},
     "output_type": "execute_result"
    }
   ],
   "source": [
    "y_train[:,20:].shape"
   ]
  },
  {
   "cell_type": "code",
   "execution_count": 42,
   "id": "d6c1b2f4-84be-4976-be64-8f802ba07315",
   "metadata": {},
   "outputs": [
    {
     "data": {
      "text/plain": [
       "array([[1, 1, 1, 1, 1, 0, 1, 1, 1, 1, 1, 1, 1, 0, 0, 1, 0, 1, 1, 1, 1, 0,\n",
       "        0, 1, 1, 1, 1, 0, 1, 0, 1, 1, 1, 1, 0, 0, 0, 1, 0, 0, 1, 1, 1, 0,\n",
       "        0, 0, 1, 1, 1, 0]], dtype=int64)"
      ]
     },
     "execution_count": 42,
     "metadata": {},
     "output_type": "execute_result"
    }
   ],
   "source": [
    "y_test"
   ]
  },
  {
   "cell_type": "code",
   "execution_count": 43,
   "id": "4853ee5c-2903-4eca-8960-615607723b60",
   "metadata": {},
   "outputs": [
    {
     "data": {
      "text/plain": [
       "(12288, 50)"
      ]
     },
     "execution_count": 43,
     "metadata": {},
     "output_type": "execute_result"
    }
   ],
   "source": [
    "X_test.shape"
   ]
  },
  {
   "cell_type": "code",
   "execution_count": 44,
   "id": "1da04bf0-eb18-440b-b043-e1d24b873907",
   "metadata": {},
   "outputs": [],
   "source": [
    "predictions = model.predict(X_train)"
   ]
  },
  {
   "cell_type": "code",
   "execution_count": 45,
   "id": "ce48c1df-d839-458a-a1d4-775c83d14139",
   "metadata": {},
   "outputs": [
    {
     "data": {
      "text/plain": [
       "array([[0.4088535 , 0.30451277, 0.48606306, 0.17790945, 0.20362633,\n",
       "        0.30159966, 0.22285235, 0.48840479, 0.65510388, 0.20871724,\n",
       "        0.16618436, 0.47649013, 0.37832373, 0.56340295, 0.32598498,\n",
       "        0.20121575, 0.17067965, 0.23013958, 0.36913435, 0.42526022,\n",
       "        0.31116284, 0.25614594, 0.5013432 , 0.22859377, 0.50655667,\n",
       "        0.30145525, 0.23587266, 0.65724353, 0.31578754, 0.16415445,\n",
       "        0.41582818, 0.38019979, 0.35215418, 0.36186721, 0.44003924,\n",
       "        0.38440014, 0.43683052, 0.44287687, 0.26056183, 0.38947438,\n",
       "        0.23817632, 0.36455795, 0.22691451, 0.36934219, 0.44549804,\n",
       "        0.22422464, 0.39571694, 0.44424327, 0.18992796, 0.30997832,\n",
       "        0.39445997, 0.24918488, 0.32044597, 0.34246293, 0.38736417,\n",
       "        0.21474057, 0.53072537, 0.45497626, 0.29660123, 0.43620994,\n",
       "        0.34590077, 0.34015486, 0.24180731, 0.20003273, 0.4731152 ,\n",
       "        0.37453385, 0.28296694, 0.23377124, 0.2430752 , 0.47296444,\n",
       "        0.30156773, 0.61929361, 0.43268936, 0.30174395, 0.40651849,\n",
       "        0.42289679, 0.14610358, 0.34657761, 0.29043774, 0.29224312,\n",
       "        0.10179342, 0.27087127, 0.27994786, 0.26070761, 0.45310335,\n",
       "        0.48640886, 0.25688922, 0.16960548, 0.40442479, 0.26282758,\n",
       "        0.34199308, 0.38350254, 0.15575324, 0.36716721, 0.32963387,\n",
       "        0.42273932, 0.32349898, 0.32700146, 0.32492111, 0.35210609,\n",
       "        0.37925776, 0.26711026, 0.5059384 , 0.21494032, 0.3691314 ,\n",
       "        0.42877423, 0.29492078, 0.22271193, 0.26356232, 0.47230892,\n",
       "        0.31570299, 0.50525441, 0.37383446, 0.33535103, 0.49774248,\n",
       "        0.21422077, 0.32744282, 0.36446715, 0.11176371, 0.49578175,\n",
       "        0.25420412, 0.29330611, 0.23984835, 0.24999696, 0.2520207 ,\n",
       "        0.39842846, 0.38992132, 0.31636391, 0.47354625, 0.48125839,\n",
       "        0.34938068, 0.24060253, 0.31716236, 0.39326087, 0.47691232,\n",
       "        0.35172811, 0.39069865, 0.16831748, 0.16309149, 0.29365694,\n",
       "        0.38357099, 0.5516682 , 0.27379511, 0.29970928, 0.37702677,\n",
       "        0.39947135, 0.36902141, 0.32082082, 0.40056895, 0.17620187,\n",
       "        0.23984445, 0.50328935, 0.3392369 , 0.46419338, 0.40621113,\n",
       "        0.3165145 , 0.53372539, 0.27856329, 0.22539293, 0.44750437,\n",
       "        0.33067722, 0.33679439, 0.36782587, 0.34455271, 0.34006277,\n",
       "        0.31819043, 0.32714676, 0.34538568, 0.51008257, 0.35740861,\n",
       "        0.38251253, 0.38651206, 0.39960408, 0.39368838, 0.67068698,\n",
       "        0.50841912, 0.53531523, 0.31387533, 0.30175179, 0.23625659,\n",
       "        0.26142021, 0.29524524, 0.26712204, 0.51089986, 0.31386232,\n",
       "        0.50074665, 0.27902115, 0.30607614, 0.41379988, 0.32584828,\n",
       "        0.2189405 , 0.31306986, 0.29122742, 0.47168643, 0.33279845,\n",
       "        0.40812868, 0.39507132, 0.16078069, 0.30574149, 0.32674561,\n",
       "        0.27180747, 0.31896221, 0.32217268, 0.239586  , 0.49121152,\n",
       "        0.23402838, 0.34146774, 0.22007369, 0.40945539]])"
      ]
     },
     "execution_count": 45,
     "metadata": {},
     "output_type": "execute_result"
    }
   ],
   "source": [
    "predictions"
   ]
  },
  {
   "cell_type": "code",
   "execution_count": 46,
   "id": "bcc93ad3-83e9-4076-b192-f784d2a34d03",
   "metadata": {},
   "outputs": [
    {
     "data": {
      "text/plain": [
       "array([[0.45189496]])"
      ]
     },
     "execution_count": 46,
     "metadata": {},
     "output_type": "execute_result"
    }
   ],
   "source": [
    "model.predict(X_test[:,2].reshape(-1,1))"
   ]
  },
  {
   "cell_type": "code",
   "execution_count": 47,
   "id": "fa86cd85-ccd1-43e7-9c01-23aa8d10c08e",
   "metadata": {},
   "outputs": [
    {
     "data": {
      "text/plain": [
       "(12288, 1)"
      ]
     },
     "execution_count": 47,
     "metadata": {},
     "output_type": "execute_result"
    }
   ],
   "source": [
    "X_test[:,2].reshape(-1,1).shape\n"
   ]
  },
  {
   "cell_type": "code",
   "execution_count": 48,
   "id": "04ce6df1-3204-498a-a408-4100acc733a7",
   "metadata": {},
   "outputs": [
    {
     "data": {
      "text/plain": [
       "array([[0.27843137],\n",
       "       [0.28235294],\n",
       "       [0.21960784],\n",
       "       ...,\n",
       "       [0.24313725],\n",
       "       [0.15686275],\n",
       "       [0.09019608]])"
      ]
     },
     "execution_count": 48,
     "metadata": {},
     "output_type": "execute_result"
    }
   ],
   "source": [
    "X_test[:,24].reshape(-1,1)"
   ]
  },
  {
   "cell_type": "code",
   "execution_count": null,
   "id": "f589e515-85ae-46f7-a9e8-a2e8d7bace79",
   "metadata": {},
   "outputs": [],
   "source": []
  },
  {
   "cell_type": "code",
   "execution_count": null,
   "id": "99b211c7",
   "metadata": {},
   "outputs": [],
   "source": []
  },
  {
   "cell_type": "code",
   "execution_count": null,
   "id": "35d61739",
   "metadata": {},
   "outputs": [],
   "source": []
  },
  {
   "cell_type": "markdown",
   "id": "e557bd28",
   "metadata": {},
   "source": [
    "# USING TENSORFLOW"
   ]
  },
  {
   "cell_type": "code",
   "execution_count": 1,
   "id": "f6271b2d",
   "metadata": {},
   "outputs": [],
   "source": [
    "import tensorflow as tf"
   ]
  },
  {
   "cell_type": "code",
   "execution_count": null,
   "id": "04ad8266",
   "metadata": {},
   "outputs": [],
   "source": [
    "from tensorflow.keras. import Seq"
   ]
  }
 ],
 "metadata": {
  "kernelspec": {
   "display_name": "Python 3 (ipykernel)",
   "language": "python",
   "name": "python3"
  },
  "language_info": {
   "codemirror_mode": {
    "name": "ipython",
    "version": 3
   },
   "file_extension": ".py",
   "mimetype": "text/x-python",
   "name": "python",
   "nbconvert_exporter": "python",
   "pygments_lexer": "ipython3",
   "version": "3.10.10"
  }
 },
 "nbformat": 4,
 "nbformat_minor": 5
}
